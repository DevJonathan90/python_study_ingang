{
  "cells": [
    {
      "cell_type": "markdown",
      "source": "# 파이썬은 플랫폼 독립적인 언어\n- 플랫폼 : OS(Operating System), 윈도우 리눅스, 안드로이드, 맥OS, ios 등 프로그램이 실행되는 운영 체제\n- 독립적인 : 관계없는, 상관없는 모든 종류의 IS에서 코드만 짜주면 동작 가능함\n",
      "metadata": {
        "pycharm": {
          "metadata": false
        }
      }
    },
    {
      "cell_type": "markdown",
      "source": "# 파이썬은 인터프리터 언어\n- 컴파일러\n    - 컴파일러언어는 소스코드를 기계어로 먼저 변역\n    - 실행속도가 빠름\n    - 한번에 많은 기억장소가 필요\n    - C, 자바, C++, C#\n- 인터프리터\n    - 별도의 번역과정 없이 컴퓨터가 처리할 수 있도록 함\n    - 간단히 작성, 메모리가 적게 필요\n    - 실행속도가 느림\n    - 파이썬, 스칼라",
      "metadata": {
        "pycharm": {
          "metadata": false
        }
      }
    },
    {
      "cell_type": "markdown",
      "source": "# 객체 지향적 언어\n# 동적 타이핑",
      "metadata": {
        "pycharm": {
          "metadata": false
        }
      }
    },
    {
      "cell_type": "code",
      "execution_count": 1,
      "outputs": [
        {
          "name": "stdout",
          "text": [
            "hello world\n1\n2\n3\n4\n5\n6\n7\n8\n9\n10\n"
          ],
          "output_type": "stream"
        }
      ],
      "source": "print(\u0027hello world\u0027)\n\nfor i in range(1, 11):\n    print(i)\n",
      "metadata": {
        "pycharm": {
          "metadata": false,
          "name": "#%%\n",
          "is_executing": false
        }
      }
    }
  ],
  "metadata": {
    "language_info": {
      "codemirror_mode": {
        "name": "ipython",
        "version": 2
      },
      "file_extension": ".py",
      "mimetype": "text/x-python",
      "name": "python",
      "nbconvert_exporter": "python",
      "pygments_lexer": "ipython2",
      "version": "2.7.6"
    },
    "kernelspec": {
      "name": "python3",
      "language": "python",
      "display_name": "Python 3"
    },
    "stem_cell": {
      "cell_type": "raw",
      "source": "",
      "metadata": {
        "pycharm": {
          "metadata": false
        }
      }
    }
  },
  "nbformat": 4,
  "nbformat_minor": 0
}