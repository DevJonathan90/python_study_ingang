{
  "cells": [
    {
      "cell_type": "markdown",
      "metadata": {
        "collapsed": true,
        "pycharm": {
          "name": "#%% md\n"
        }
      },
      "source": "# 학점 프로그램 운영 방식\n- 조건에 따른 판단과 반복이 기본적으로 이루어짐\n    - 점수에 따른 학점 기준을 만든다.\n        - 예) 95점 이상 A+, 60점 미만 F\n    - 기준을 바탕으로 첫 번째 열의 점수를 판단한다.\n        - 예) 38점은 60점 미만이므로 F\n    - 다음 줄로 계속 이동하면서, 열의 점수를 판단한다.\n        - 예) 37점 미만은 60점 미만이므로 F\n    - 계산할 점수가 없으면 프로그램을 종료한다. "
    },
    {
      "cell_type": "markdown",
      "source": "# 조건문의 의미와 구성\n- 조건문의 의미\n    - 조건에 따라 특정한 동작을 하게 만드는 명령어\n- 조건문의 구성\n    - 조건(기준)\n        \u003e #지하철 앞 차와의 간격이 10m 이하이면\n        \u003e #사용자가 20세 이하이면\n    - 행동(명령)    \n        \u003e #속도를 10Km 이하로 낮춰라.\n        \u003e #VOD를 플레이 하지 마라.\n        \n- 조건문은 기준과 명령으로 구성되고 파이썬은 조건문으로 if, else, elif 등의 명령 키워드를 사용함\n\n# 파이썬의 기본 조건문, if-else문\n- 입력 받은 값이 \u002730 미만\u0027이라는 조건에 따라 명령을 실행하는 예시문\n    \u003e print(\"Tell me your age?\")\n    \u003e my_age \u003d int(input())\n    \u003e if my_age \u003c 30:\n        print(\"Wellcome to the Club\")\n      else:\n        print(\"Oh! No. your are not accepted.\")\n    #my_age가 조건, print문이 명령\n    #명령문 입력시 띄어쓰기(indentation)를 해야함",
      "metadata": {
        "pycharm": {
          "metadata": false,
          "name": "#%% md\n"
        }
      }
    },
    {
      "cell_type": "code",
      "execution_count": null,
      "outputs": [],
      "source": "if: # 조건, if를 쓰고 조건 삽입 후 \":\" 입력\n    \u003c수행 명령 1-1\u003e # 들여쓰기(indentation)후 수행 명령 입력, space키 4번 또는 Tab 키를 활용\n    \u003c수행 명령 1-2\u003e\nelse:\n    \u003c수행 명령 2-1\u003e\n    \u003c수행 명령 2-2\u003e\n# \u0027조건\u0027은 True, False로 명확히 구분되어야 한다.\n",
      "metadata": {
        "pycharm": {
          "metadata": false,
          "name": "#%%\n"
        }
      }
    },
    {
      "cell_type": "markdown",
      "source": "- 참 / 거짓의 구분을 위해 비교 연산자 활용\n\n\u003e x \u003c y\n    - ~ 보다 작음, x가 y보다 작은지 검사\n\n\u003e x \u003e y\n    - ~ 보다 큼, x가 y보다 큰지 검사\n\n\u003e x \u003d\u003d y\n    - 값이 같음, x와 y가 같은지 검사\n\u003e x is y\n    - 메모리 주소가 같음, x와 y가 같은지 검사\n\u003e x !\u003d y\n    - 같지 않음, x가 y와 다른지 검사\n\u003e x is not y\n    - 같지 않음, x가 y와 메모리 주소가 다른지 검사\n\u003e x \u003e\u003d y\n    - 크거나 같음, x가 y보다 이상인지 검사\n\u003e x \u003c\u003d y\n    - 작거나 같음, x가 y보다 이하인지 검사\n    ",
      "metadata": {
        "pycharm": {
          "metadata": false
        }
      }
    },
    {
      "cell_type": "markdown",
      "source": "- 조건이 숫자형일 경우\n    - 수학에서의 참/거짓과 동일\n    - 존재하면 참 없으면 거짓이라고 판단\n- 조건이 문자형일 경우\n    -\" \" 안에 문자가 존재하면 참\n    - if \" \"(비어있는 경우)는 거짓으로 판단\n",
      "metadata": {
        "pycharm": {
          "metadata": false,
          "name": "#%% md\n"
        }
      }
    },
    {
      "cell_type": "markdown",
      "source": "# 조건문의 논리 키워드, and or not\n- 수학(집합)의 논리 키워드를 사용하여 참/거짓을 판단\n- a \u003d 8, b \u003d 5일 때\n    - if a\u003d\u003d8 and b\u003d\u003d4 # False \n    - if a\u003e7 or b\u003e7 # True\n    - if not(a\u003e7) # False\n                         \n# elif문\n- 전체 중 하나의 조건에 만족하면 나머지 if 문을 실행되지 않도록 작동\n- elif문의 구조\n    - 처음: if문, 중간: n개의 elfi문, 끝: else문                            ",
      "metadata": {
        "pycharm": {
          "metadata": false,
          "name": "#%% md\n"
        }
      }
    }
  ],
  "metadata": {
    "language_info": {
      "codemirror_mode": {
        "name": "ipython",
        "version": 2
      },
      "file_extension": ".py",
      "mimetype": "text/x-python",
      "name": "python",
      "nbconvert_exporter": "python",
      "pygments_lexer": "ipython2",
      "version": "2.7.6"
    },
    "kernelspec": {
      "name": "python3",
      "language": "python",
      "display_name": "Python 3"
    }
  },
  "nbformat": 4,
  "nbformat_minor": 0
}