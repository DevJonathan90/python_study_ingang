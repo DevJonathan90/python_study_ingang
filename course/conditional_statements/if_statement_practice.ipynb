{
  "cells": [
    {
      "cell_type": "markdown",
      "metadata": {
        "collapsed": true,
        "pycharm": {
          "name": "#%% md\n"
        }
      },
      "source": "- 무슨 학교 다니세요?\n    - 태어난 연도를 계산하여 재학중인 학교 종류를 맞추는 프로그램\n    - 나이를 구하는 수식\n        - 현재년도 - 태어난 년도 + 1\n    - 출력 값\n        - 26세 이하 20세 이상: 대학생\n        - 20세 미만 17세 이상: 고등학생\n        - 17세 미만 14세 이상: 중학생\n        - 14세 미만 8세 이상: 초등학생\n        - 그 외의 경우 학생이 아닙니다.\n"
    }
  ],
  "metadata": {
    "language_info": {
      "codemirror_mode": {
        "name": "ipython",
        "version": 2
      },
      "file_extension": ".py",
      "mimetype": "text/x-python",
      "name": "python",
      "nbconvert_exporter": "python",
      "pygments_lexer": "ipython2",
      "version": "2.7.6"
    },
    "kernelspec": {
      "name": "python3",
      "language": "python",
      "display_name": "Python 3"
    }
  },
  "nbformat": 4,
  "nbformat_minor": 0
}