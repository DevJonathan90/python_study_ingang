{
  "cells": [
    {
      "cell_type": "markdown",
      "metadata": {
        "collapsed": true,
        "pycharm": {
          "name": "#%% md\n"
        }
      },
      "source": "- 100명의 성적을 관리하려면 몇 개의 변수가 필요할까?\n- List를 활용한다면 단 한개의 변수로 가능함\n"
    },
    {
      "cell_type": "markdown",
      "source": "- List란\n    - 시퀀스형 자료형\n        - 데이터들이 연결되어 나오는 자료형\n        - 여러 데이터들이 하나의 변수에 할당되는 자료형\n    - List집합에 포함될 수 있는 데이터 형\n        - Integer type, float type\n        - ex) colors \u003d [\u0027red\u0027, \u0027blue\u0027, \u0027green\u0027]\n        \n- List의 특징\n    - 인덱싱 (Indexing)\n        - list에 있는 값들은 각각의 주소(offset)를 보유 -\u003e 주소를 사용해 할당된 값을 호출\n        \n        - colors \u003d [\u0027red\u0027, \u0027blue\u0027, \u0027green\u0027]\n        - \u0027red\u0027는 0번 주소, \u0027blue\u0027는 1번 주소, \u0027green\u0027은 2번 주소\n        \n     - 슬라이싱 (Slicing)\n        - list의 값들을 잘라서 쓰는 것\n        - list의 주소 값을 기반으로 부분 값을 잘라 씀    ",
      "metadata": {
        "pycharm": {
          "metadata": false
        }
      }
    },
    {
      "cell_type": "markdown",
      "source": "- List의 연산\n    - 인덱싱, 슬라이싱 등을 활용한 연산\n    - len : 길이를 구하는 함수\n- List 추가 및 삭제\n    append: 리스트에 새로운 값 추가\n    extend: 새로운 리스트 값을 확장\n    insert: 특정 주소, insert 번호에 값 추가\n    remove: 리스트 값 삭제\n    del: 리스트 내 주소 값 삭제\n    \n- list 안의 객체들은 각각 하나의 element\n",
      "metadata": {
        "pycharm": {
          "metadata": false
        }
      }
    },
    {
      "cell_type": "code",
      "execution_count": 2,
      "outputs": [],
      "source": "# lsit 값 추가\ncolor \u003d [\u0027red\u0027, \u0027blue\u0027, \u0027green\u0027]\ncolor2 \u003d [\u0027orange\u0027, \u0027black\u0027, \u0027white\u0027]",
      "metadata": {
        "pycharm": {
          "metadata": false,
          "name": "#%%\n",
          "is_executing": false
        }
      }
    },
    {
      "cell_type": "code",
      "execution_count": 3,
      "outputs": [
        {
          "name": "stdout",
          "text": [
            "[\u0027red\u0027, \u0027blue\u0027, \u0027green\u0027, \u0027orange\u0027, \u0027black\u0027, \u0027white\u0027]\n[\u0027yellow\u0027, \u0027blue\u0027, \u0027green\u0027, \u0027yellow\u0027, \u0027blue\u0027, \u0027green\u0027]\n"
          ],
          "output_type": "stream"
        },
        {
          "data": {
            "text/plain": "1"
          },
          "metadata": {},
          "output_type": "execute_result",
          "execution_count": 3
        }
      ],
      "source": "print(color+color2) # 리스트 끼리 더하기\nlen(color) # 리스트 길이 구하기\ncolor[0] \u003d \u0027yellow\u0027 # color 0번째에 \u0027yellow\u0027 넣기 \nprint(color*2) # color 2번 출력하기\n\u0027blue\u0027 in color2 # color2 list에 blue 값이 있는지 확인 하기\ntotal_color \u003d color+color2 # color와 color2 리스트 합치기\n\"blue\" in color # color list에 blue 값이 있는지 확인 하기\n\"blue\" in color2 # color2 list에 blue 값이 있는지 확인 하기\n(\"blue\" in color2) + (\"blue\" in color) # color와 color2 list에 blue 값이 있는지 확인하고 값 계산하기\n",
      "metadata": {
        "pycharm": {
          "metadata": false,
          "name": "#%%\n",
          "is_executing": false
        }
      }
    },
    {
      "cell_type": "code",
      "execution_count": 4,
      "outputs": [],
      "source": "color.append(\"black\") # color 리스트에 \"black\" 추가\ncolor.extend([\"yellow\"]) # color 맨 뒤에 list 값을 확장\ncolor.insert(0, \"Yellow\") # color 0번 주소에 값 추가\ncolor.remove(\"Yellow\") # 리스트의 값 삭제\ndel color[0]# 리스트 내 특정 주소 값 삭제\n",
      "metadata": {
        "pycharm": {
          "metadata": false,
          "name": "#%%\n",
          "is_executing": false
        }
      }
    },
    {
      "cell_type": "markdown",
      "source": "- 하나의 List 안에 다양한 Data Type",
      "metadata": {
        "pycharm": {
          "metadata": false,
          "name": "#%% md\n"
        }
      }
    },
    {
      "cell_type": "code",
      "execution_count": null,
      "outputs": [],
      "source": "a \u003d [\"test\", 1, 2, 3]\ncolor \u003d [\"blue\", \"orange\", \"black\", \"white\"]\na[0] \u003d color \na # 이차원 리스트가 생성됨\n",
      "metadata": {
        "pycharm": {
          "metadata": false,
          "name": "#%%\n"
        }
      }
    },
    {
      "cell_type": "markdown",
      "source": "- List의 메모리 저장 방식",
      "metadata": {
        "pycharm": {
          "metadata": false,
          "name": "#%% md\n"
        }
      }
    },
    {
      "cell_type": "code",
      "execution_count": null,
      "outputs": [],
      "source": "a \u003d [5, 4, 3, 2, 1]\nb \u003d [1, 2, 3, 4, 5]\nb \u003d a # memory를 연결하는 것이지 복사를 하는 개념이 아님\nprint(b)\na.sort()\nb \u003d [6, 7, 8, 9, 10]\nprint(a+b)\na \u003d 10\na is 10 # True\na \u003d 400\na is 400 # False, why? : 파이썬에서 is의 의미는 메모리의 주소가 같은가? \n         # 256까지의 값은 특정 메모리 영역에 저장, 256 이상의 값에는 \u0027False\u0027를 출력\n",
      "metadata": {
        "pycharm": {
          "metadata": false,
          "name": "#%%\n"
        }
      }
    }
  ],
  "metadata": {
    "language_info": {
      "codemirror_mode": {
        "name": "ipython",
        "version": 2
      },
      "file_extension": ".py",
      "mimetype": "text/x-python",
      "name": "python",
      "nbconvert_exporter": "python",
      "pygments_lexer": "ipython2",
      "version": "2.7.6"
    },
    "kernelspec": {
      "name": "python3",
      "language": "python",
      "display_name": "Python 3"
    }
  },
  "nbformat": 4,
  "nbformat_minor": 0
}