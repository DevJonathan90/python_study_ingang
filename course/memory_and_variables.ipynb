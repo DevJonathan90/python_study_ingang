{
  "cells": [
    {
      "cell_type": "code",
      "execution_count": 3,
      "metadata": {
        "collapsed": true,
        "pycharm": {
          "is_executing": false
        }
      },
      "outputs": [
        {
          "name": "stdout",
          "text": [
            "Jonathan Kim\n"
          ],
          "output_type": "stream"
        }
      ],
      "source": "professor \u003d \"Jonathan Kim\"\nprint(professor)\n# professor \u003d \"Jonathan Kim\"의 의미는 professor에 Jonathan Kim을 넣어라 라는 의미임"
    },
    {
      "cell_type": "code",
      "execution_count": 5,
      "outputs": [
        {
          "name": "stdout",
          "text": [
            "12\na+b\n"
          ],
          "output_type": "stream"
        }
      ],
      "source": "a \u003d 7\nb \u003d 5\nprint(a+b)\n# a라는 변수에 있는 값과 b라는 변수에 있는 값을 더해서 화면에 출력해라\n\na \u003d 7\nb \u003d 5\nprint(\"a+b\")",
      "metadata": {
        "pycharm": {
          "metadata": false,
          "name": "#%%\n",
          "is_executing": false
        }
      }
    },
    {
      "cell_type": "markdown",
      "source": "- 변수(Variable)란?\n    - 2x + 7y \u003d 14에서 변수는 x와 y\n    - but 프로그래밍의 변수는 수학에서의 변수와 다른 개념\n    - 프로그래밍에서는 변수는 값을 저장하는 장소\n    - 따라서 메모리 주소를 가지고 있고 변수에 들어가는 값은 메모리 주소에 할당됨",
      "metadata": {
        "pycharm": {
          "metadata": false
        }
      }
    },
    {
      "cell_type": "markdown",
      "source": "- 컴퓨터의 구조, 폰 노이만 아키텍쳐\n    - 메모리에 저장된 값들을 CPU가 순차적으로 해석하고 계산하여 결과 값을 출력하는 구조\n",
      "metadata": {
        "pycharm": {
          "metadata": false
        }
      }
    },
    {
      "cell_type": "markdown",
      "source": "- 메모리(Memory)란?\n",
      "metadata": {
        "pycharm": {
          "metadata": false,
          "name": "#%% md\n"
        }
      }
    },
    {
      "cell_type": "markdown",
      "source": "- 변수는 프로그램에서 사용하기 위한 특정한 값을 저장하는 공간\n- 변수가 선언되는 순간 메모리의 특정영역에 공간이 할당됨\n- 변수에는 값이 할당되고 해당 값은 메모리에 저장됨\n",
      "metadata": {
        "pycharm": {
          "metadata": false,
          "name": "#%% md\n"
        }
      }
    },
    {
      "cell_type": "markdown",
      "source": "- 알파벳, 숫자, 언더스코어(_)로 선언 가능하다.\n- 변수명은 대소문자가 구분된다.\n- 파이썬에서 사용되고 있는 예약어는 쓰지 않는다.\n    - for, if, else 등",
      "metadata": {
        "pycharm": {
          "metadata": false,
          "name": "#%% md\n"
        }
      }
    }
  ],
  "metadata": {
    "language_info": {
      "codemirror_mode": {
        "name": "ipython",
        "version": 2
      },
      "file_extension": ".py",
      "mimetype": "text/x-python",
      "name": "python",
      "nbconvert_exporter": "python",
      "pygments_lexer": "ipython2",
      "version": "2.7.6"
    },
    "kernelspec": {
      "name": "python3",
      "language": "python",
      "display_name": "Python 3"
    }
  },
  "nbformat": 4,
  "nbformat_minor": 0
}