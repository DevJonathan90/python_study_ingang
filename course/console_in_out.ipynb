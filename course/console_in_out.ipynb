{
  "cells": [
    {
      "cell_type": "markdown",
      "metadata": {
        "collapsed": true,
        "pycharm": {
          "name": "#%% md\n"
        }
      },
      "source": "- 어떻게 프로그램에게 데이터를 주고 받을 것인가?\n- 프로그램과 소통하는 방법\n    - GUI\n        - Graphical User Interface\n        - 윈도우 키를 누르면 뜨는 시작 화면\n    - CLI\n        - Command Line Interface\n        - 파이썬의 실행 환경\n        - Text를 사용하여 컴퓨터에 명령을 입력하는 인터페이스 체계\n        - OS에 따라 부르는 이름이 다름\n            - Window: CMD window\n            - Mac, Linux: Terminal\n         - 이런 것들을 모두 \u0027Console\u0027이라고 통칭함\n            - Console의 어원\n                - 예전에는 1대의 메인 프레임\n                - 각자의 디스플레이와 키보드(Console)을 연결\n                - Command 창(Console) \u003d CLI 입력화면\n- 콘솔창에서 문자열을 입력 받는 input 함수\n"
    }
  ],
  "metadata": {
    "language_info": {
      "codemirror_mode": {
        "name": "ipython",
        "version": 2
      },
      "file_extension": ".py",
      "mimetype": "text/x-python",
      "name": "python",
      "nbconvert_exporter": "python",
      "pygments_lexer": "ipython2",
      "version": "2.7.6"
    },
    "kernelspec": {
      "name": "python3",
      "language": "python",
      "display_name": "Python 3"
    }
  },
  "nbformat": 4,
  "nbformat_minor": 0
}