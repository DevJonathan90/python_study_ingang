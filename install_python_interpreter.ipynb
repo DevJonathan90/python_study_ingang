{
  "cells": [
    {
      "cell_type": "markdown",
      "source": "- chrome을 권장\n- google에 들어가서 anaconda 검색\n    - anaconda는 너무 많이 설치되서, conda를 설치 그 중 miniconda를 설치\n    - all users 말고 just me로 설치 just me 설치시 pc 이름이 영문으로 되어 있어야 함 \n",
      "metadata": {
        "pycharm": {
          "metadata": false,
          "name": "#%% md\n"
        }
      }
    }
  ],
  "metadata": {
    "language_info": {
      "codemirror_mode": {
        "name": "ipython",
        "version": 2
      },
      "file_extension": ".py",
      "mimetype": "text/x-python",
      "name": "python",
      "nbconvert_exporter": "python",
      "pygments_lexer": "ipython2",
      "version": "2.7.6"
    },
    "kernelspec": {
      "name": "python3",
      "language": "python",
      "display_name": "Python 3"
    },
    "stem_cell": {
      "cell_type": "raw",
      "source": "",
      "metadata": {
        "pycharm": {
          "metadata": false
        }
      }
    }
  },
  "nbformat": 4,
  "nbformat_minor": 0
}