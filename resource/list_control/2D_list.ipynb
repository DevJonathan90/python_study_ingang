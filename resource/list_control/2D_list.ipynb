{
  "cells": [
    {
      "cell_type": "markdown",
      "metadata": {
        "collapsed": true,
        "pycharm": {
          "name": "#%% md\n"
        }
      },
      "source": "# 이차원 List\n- 리스트 안에 리스트를 만들어 행렬(martrix)를 생성하는 것\n - 한 변수에 여러 개의 데이터를 넣는 것\n - 행과 열이 있는 스프레드시트에 데이터를 저장할 때 사용하는 기능"
    },
    {
      "cell_type": "code",
      "source": "# 이차원 list 실습\nkor_score \u003d [49,79,20,100,80]\nmath_score \u003d [43,59,85,30,90]\neng_score \u003d [49.79,48,60,100]\nmidterm_socre \u003d [kor_score, math_score, eng_score]\nprint(midterm_socre)\nprint(midterm_socre[0][2])\n# 평균 구하기\n(midterm_socre[0][0] + midterm_socre[1][0] + midterm_socre[2][0]) / 3\n\n",
      "metadata": {
        "pycharm": {
          "metadata": false,
          "name": "#%%\n",
          "is_executing": false
        }
      },
      "execution_count": 10,
      "outputs": [
        {
          "name": "stdout",
          "text": [
            "[[49, 79, 20, 100, 80], [43, 59, 85, 30, 90], [49.79, 48, 60, 100]]\n20\n"
          ],
          "output_type": "stream"
        },
        {
          "data": {
            "text/plain": "47.26333333333333"
          },
          "metadata": {},
          "output_type": "execute_result",
          "execution_count": 10
        }
      ]
    }
  ],
  "metadata": {
    "language_info": {
      "codemirror_mode": {
        "name": "ipython",
        "version": 2
      },
      "file_extension": ".py",
      "mimetype": "text/x-python",
      "name": "python",
      "nbconvert_exporter": "python",
      "pygments_lexer": "ipython2",
      "version": "2.7.6"
    },
    "kernelspec": {
      "name": "python3",
      "language": "python",
      "display_name": "Python 3"
    }
  },
  "nbformat": 4,
  "nbformat_minor": 0
}