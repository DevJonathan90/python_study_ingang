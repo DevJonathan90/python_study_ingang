{
  "cells": [
    {
      "cell_type": "markdown",
      "metadata": {
        "collapsed": true,
        "pycharm": {
          "name": "#%% md\n"
        }
      },
      "source": "- 패킹(packing): 한 변수에 여러 개의 데이터를 넣는 것\n    \u003e t \u003d [1, 2, 3] # 1, 2, 3을 변수 t에 패킹\n- 언패킹(unpacking): 한 변수의 데이터를 각각의 변수로 반환하는 것\n    \u003e a, b, c \u003d t\n"
    }
  ],
  "metadata": {
    "language_info": {
      "codemirror_mode": {
        "name": "ipython",
        "version": 2
      },
      "file_extension": ".py",
      "mimetype": "text/x-python",
      "name": "python",
      "nbconvert_exporter": "python",
      "pygments_lexer": "ipython2",
      "version": "2.7.6"
    },
    "kernelspec": {
      "name": "python3",
      "language": "python",
      "display_name": "Python 3"
    }
  },
  "nbformat": 4,
  "nbformat_minor": 0
}