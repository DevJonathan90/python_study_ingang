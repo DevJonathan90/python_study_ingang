{
  "cells": [
    {
      "cell_type": "markdown",
      "metadata": {
        "collapsed": true,
        "pycharm": {
          "name": "#%% md\n"
        }
      },
      "source": "- 프로그래밍의 기초, 사칙연산과 문자열 처리\n    - 기본 자료형 (Data Types)\n    - 연산자와 피연산자\n    - 데이터의 형태\n    - 데이터 타입 변환 방법\n"
    },
    {
      "cell_type": "markdown",
      "source": "- 정수형\n    - integer\n    - 1, 2, 3, 100, -9\n    - 선언형태 data\u003d 1\n- 실수형 : float\n    - 소수점이 포함된 실수\n- 문자형 : string\n    - 따옴표 (\u0027/\")에 들어가 있는 문자형\n- 논리/불린 자료형 : boolean\n    - 참 또는 거짓을 표현\n- 파이썬의 핵심기능, 다이나믹 타이핑\n    - 사용자가 별도의 데이터 타입 지정을 하지 않아도 인터프리터가 자동적으로 데이터의 타입을 선언함\n    ",
      "metadata": {
        "pycharm": {
          "metadata": false,
          "name": "#%% md\n"
        }
      }
    },
    {
      "cell_type": "code",
      "execution_count": 2,
      "outputs": [
        {
          "name": "stdout",
          "text": [
            "1 1\n"
          ],
          "output_type": "stream"
        },
        {
          "data": {
            "text/plain": "int"
          },
          "metadata": {},
          "output_type": "execute_result",
          "execution_count": 2
        }
      ],
      "source": "# 정수형 코드 예시\na \u003d 1\nb \u003d 1\nprint(a, b)\ntype(a)",
      "metadata": {
        "pycharm": {
          "metadata": false,
          "name": "#%%\n",
          "is_executing": false
        }
      }
    },
    {
      "cell_type": "code",
      "execution_count": 5,
      "outputs": [
        {
          "name": "stdout",
          "text": [
            "5.0\n"
          ],
          "output_type": "stream"
        },
        {
          "data": {
            "text/plain": "float"
          },
          "metadata": {},
          "output_type": "execute_result",
          "execution_count": 5
        }
      ],
      "source": "a \u003d 1.5\nb \u003d 3.5\nprint(a+b)\ntype(7)\ntype(7.0)\ntype(a+b)\n",
      "metadata": {
        "pycharm": {
          "metadata": false,
          "name": "#%%\n",
          "is_executing": false
        }
      }
    },
    {
      "cell_type": "code",
      "execution_count": 7,
      "outputs": [
        {
          "traceback": [
            "\u001b[1;31m---------------------------------------------------------------------------\u001b[0m",
            "\u001b[1;31mTypeError\u001b[0m                                 Traceback (most recent call last)",
            "\u001b[1;32m\u003cipython-input-7-e33dc3841860\u003e\u001b[0m in \u001b[0;36m\u003cmodule\u003e\u001b[1;34m\u001b[0m\n\u001b[0;32m      3\u001b[0m \u001b[0mb\u001b[0m \u001b[1;33m\u003d\u001b[0m \u001b[1;34m\"23942834923\"\u001b[0m\u001b[1;33m\u001b[0m\u001b[1;33m\u001b[0m\u001b[0m\n\u001b[0;32m      4\u001b[0m \u001b[0ma\u001b[0m\u001b[1;33m+\u001b[0m\u001b[0mb\u001b[0m\u001b[1;33m\u001b[0m\u001b[1;33m\u001b[0m\u001b[0m\n\u001b[1;32m----\u003e 5\u001b[1;33m \u001b[0ma\u001b[0m\u001b[1;33m-\u001b[0m\u001b[0mb\u001b[0m\u001b[1;33m\u001b[0m\u001b[1;33m\u001b[0m\u001b[0m\n\u001b[0m",
            "\u001b[1;31mTypeError\u001b[0m: unsupported operand type(s) for -: \u0027str\u0027 and \u0027str\u0027"
          ],
          "ename": "TypeError",
          "evalue": "unsupported operand type(s) for -: \u0027str\u0027 and \u0027str\u0027",
          "output_type": "error"
        }
      ],
      "source": "# 문자형 코드 예시\na \u003d \"ABC\"\nb \u003d \"23942834923\" # 사실 상 문자임\na+b\na-b # 문자형 데이터는 뺄샘 연산이 안됨",
      "metadata": {
        "pycharm": {
          "metadata": false,
          "name": "#%%\n",
          "is_executing": false
        }
      }
    },
    {
      "cell_type": "code",
      "execution_count": 8,
      "outputs": [
        {
          "name": "stdout",
          "text": [
            "True False\n"
          ],
          "output_type": "stream"
        }
      ],
      "source": "# 불린 타입\na \u003d True\nb \u003d False\nprint(a,b)",
      "metadata": {
        "pycharm": {
          "metadata": false,
          "name": "#%%\n",
          "is_executing": false
        }
      }
    },
    {
      "cell_type": "code",
      "execution_count": 11,
      "outputs": [
        {
          "data": {
            "text/plain": "1"
          },
          "metadata": {},
          "output_type": "execute_result",
          "execution_count": 11
        }
      ],
      "source": "a+a",
      "metadata": {
        "pycharm": {
          "metadata": false,
          "name": "#%%\n",
          "is_executing": false
        }
      }
    },
    {
      "cell_type": "code",
      "execution_count": 12,
      "outputs": [
        {
          "data": {
            "text/plain": "1"
          },
          "metadata": {},
          "output_type": "execute_result",
          "execution_count": 12
        }
      ],
      "source": "a-b",
      "metadata": {
        "pycharm": {
          "metadata": false,
          "name": "#%%\n",
          "is_executing": false
        }
      }
    },
    {
      "cell_type": "code",
      "execution_count": null,
      "outputs": [],
      "source": "# 연산자와 피연산자\n# 연산자 + - * /\n# 피연산자 : 연산자에 의해 계산이 디는 값들\n# 파이썬에서는 문자간에도 + 연산이 가능함",
      "metadata": {
        "pycharm": {
          "metadata": false,
          "name": "#%%\n"
        }
      }
    },
    {
      "cell_type": "code",
      "execution_count": 13,
      "outputs": [
        {
          "name": "stdout",
          "text": [
            "27\n27\n"
          ],
          "output_type": "stream"
        }
      ],
      "source": "print(3*3*3)\nprint(3**3)",
      "metadata": {
        "pycharm": {
          "metadata": false,
          "name": "#%%\n",
          "is_executing": false
        }
      }
    },
    {
      "cell_type": "code",
      "execution_count": 14,
      "outputs": [
        {
          "name": "stdout",
          "text": [
            "3.5\n1\n"
          ],
          "output_type": "stream"
        }
      ],
      "source": "print(7/2)\nprint(7%2)",
      "metadata": {
        "pycharm": {
          "metadata": false,
          "name": "#%%\n",
          "is_executing": false
        }
      }
    },
    {
      "cell_type": "markdown",
      "source": "- 증가 또는 감소 연산\n연산자 : -\u003d,+\u003d(a\u003d a+1, a-1을 의미)",
      "metadata": {
        "pycharm": {
          "metadata": false,
          "name": "#%% md\n"
        }
      }
    },
    {
      "cell_type": "code",
      "execution_count": 15,
      "outputs": [
        {
          "name": "stdout",
          "text": [
            "-1\n"
          ],
          "output_type": "stream"
        }
      ],
      "source": "a \u003d a-1\na-\u003d1\nprint(a)",
      "metadata": {
        "pycharm": {
          "metadata": false,
          "name": "#%%\n",
          "is_executing": false
        }
      }
    },
    {
      "cell_type": "code",
      "execution_count": 17,
      "outputs": [],
      "source": "a \u003d 3\na \u003d a + 3",
      "metadata": {
        "pycharm": {
          "metadata": false,
          "name": "#%%\n",
          "is_executing": false
        }
      }
    },
    {
      "cell_type": "markdown",
      "source": "- a\u003d4일 때, a \u003d a+1를 실행하면\n    - 좌변 a는 할당 받는 변수(Variable)\n    - 우변에 a는 기존 a의 값(value) ",
      "metadata": {
        "pycharm": {
          "metadata": false,
          "name": "#%% md\n"
        }
      }
    }
  ],
  "metadata": {
    "language_info": {
      "codemirror_mode": {
        "name": "ipython",
        "version": 2
      },
      "file_extension": ".py",
      "mimetype": "text/x-python",
      "name": "python",
      "nbconvert_exporter": "python",
      "pygments_lexer": "ipython2",
      "version": "2.7.6"
    },
    "kernelspec": {
      "name": "python3",
      "language": "python",
      "display_name": "Python 3"
    }
  },
  "nbformat": 4,
  "nbformat_minor": 0
}